{
  "nbformat": 4,
  "nbformat_minor": 0,
  "metadata": {
    "colab": {
      "provenance": []
    },
    "kernelspec": {
      "name": "python3",
      "display_name": "Python 3"
    },
    "language_info": {
      "name": "python"
    }
  },
  "cells": [
    {
      "cell_type": "code",
      "execution_count": null,
      "metadata": {
        "id": "6AvsDTceNX1U"
      },
      "outputs": [],
      "source": [
        "import pandas as pd\n",
        "import matplotlib.pyplot as plt\n",
        "from statsmodels.tsa.holtwinters import ExponentialSmoothing\n",
        "from statsmodels.tsa.seasonal import seasonal_decompose\n",
        "\n",
        "# Load the sales data\n",
        "# Assume 'sales_data.csv' has columns 'Date' and 'Sales'\n",
        "df = pd.read_csv('sales_data.csv', parse_dates=['Date'], index_col='Date')\n",
        "\n",
        "# Display the first few rows of the dataset\n",
        "print(\"First few rows of the dataset:\")\n",
        "print(df.head())\n",
        "\n",
        "# Plot the sales data\n",
        "plt.figure(figsize=(10, 6))\n",
        "plt.plot(df, label='Sales')\n",
        "plt.title('Sales Over Time')\n",
        "plt.xlabel('Date')\n",
        "plt.ylabel('Sales')\n",
        "plt.legend()\n",
        "plt.show()\n",
        "\n",
        "# Decompose the time series\n",
        "decomposition = seasonal_decompose(df['Sales'], model='additive')\n",
        "fig = decomposition.plot()\n",
        "fig.set_size_inches(10, 8)\n",
        "plt.show()\n",
        "\n",
        "# Split data into training and test sets\n",
        "train_data = df[:int(0.8*(len(df)))]\n",
        "test_data = df[int(0.8*(len(df))):]\n",
        "\n",
        "# Fit the model\n",
        "model = ExponentialSmoothing(train_data['Sales'], trend='add', seasonal='add', seasonal_periods=12)\n",
        "fit = model.fit()\n",
        "\n",
        "# Forecast\n",
        "forecast = fit.forecast(steps=len(test_data))\n",
        "\n",
        "# Plot the results\n",
        "plt.figure(figsize=(10, 6))\n",
        "plt.plot(train_data['Sales'], label='Training Data')\n",
        "plt.plot(test_data['Sales'], label='Test Data')\n",
        "plt.plot(forecast, label='Forecast')\n",
        "plt.title('Sales Forecast')\n",
        "plt.xlabel('Date')\n",
        "plt.ylabel('Sales')\n",
        "plt.legend()\n",
        "plt.show()\n",
        "\n",
        "# Print forecast values\n",
        "print(\"Forecasted values:\")\n",
        "print(forecast)\n",
        "\n",
        "# Evaluate the model\n",
        "from sklearn.metrics import mean_squared_error\n",
        "import numpy as np\n",
        "\n",
        "mse = mean_squared_error(test_data['Sales'], forecast)\n",
        "rmse = np.sqrt(mse)\n",
        "print(f'Root Mean Squared Error: {rmse}')\n"
      ]
    }
  ]
}