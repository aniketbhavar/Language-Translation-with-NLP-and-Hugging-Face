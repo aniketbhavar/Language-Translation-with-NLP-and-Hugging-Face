{
  "nbformat": 4,
  "nbformat_minor": 0,
  "metadata": {
    "colab": {
      "provenance": []
    },
    "kernelspec": {
      "name": "python3",
      "display_name": "Python 3"
    },
    "language_info": {
      "name": "python"
    }
  },
  "cells": [
    {
      "cell_type": "code",
      "execution_count": null,
      "metadata": {
        "id": "lmgXFADcL1Gm"
      },
      "outputs": [],
      "source": [
        "import pandas as pd\n",
        "import seaborn as sns\n",
        "import matplotlib.pyplot as plt\n",
        "\n",
        "# Load the Iris dataset\n",
        "df = sns.load_dataset('iris')\n",
        "\n",
        "# Display the first few rows of the dataset\n",
        "print(\"First few rows of the dataset:\")\n",
        "print(df.head())\n",
        "\n",
        "# Display summary statistics\n",
        "print(\"\\nSummary statistics:\")\n",
        "print(df.describe())\n",
        "\n",
        "# Check for missing values\n",
        "print(\"\\nMissing values:\")\n",
        "print(df.isnull().sum())\n",
        "\n",
        "# Display data types\n",
        "print(\"\\nData types:\")\n",
        "print(df.dtypes)\n",
        "\n",
        "# Pairplot to see relationships between features\n",
        "print(\"\\nGenerating pairplot...\")\n",
        "sns.pairplot(df, hue='species')\n",
        "plt.show()\n",
        "\n",
        "# Histograms for each feature\n",
        "print(\"\\nGenerating histograms...\")\n",
        "df.hist(edgecolor='black', linewidth=1.2, figsize=(12, 8))\n",
        "plt.show()\n",
        "\n",
        "# Boxplot to see the distribution of features across species\n",
        "print(\"\\nGenerating boxplots...\")\n",
        "plt.figure(figsize=(10, 6))\n",
        "sns.boxplot(x='species', y='sepal_length', data=df)\n",
        "plt.show()\n",
        "\n",
        "sns.boxplot(x='species', y='sepal_width', data=df)\n",
        "plt.show()\n",
        "\n",
        "sns.boxplot(x='species', y='petal_length', data=df)\n",
        "plt.show()\n",
        "\n",
        "sns.boxplot(x='species', y='petal_width', data=df)\n",
        "plt.show()\n",
        "\n",
        "# Correlation matrix\n",
        "print(\"\\nCorrelation matrix:\")\n",
        "corr_matrix = df.corr()\n",
        "print(corr_matrix)\n",
        "\n",
        "# Heatmap of the correlation matrix\n",
        "print(\"\\nGenerating heatmap of the correlation matrix...\")\n",
        "plt.figure(figsize=(8, 6))\n",
        "sns.heatmap(corr_matrix, annot=True, cmap='coolwarm', linewidths=0.5)\n",
        "plt.show()\n"
      ]
    }
  ]
}