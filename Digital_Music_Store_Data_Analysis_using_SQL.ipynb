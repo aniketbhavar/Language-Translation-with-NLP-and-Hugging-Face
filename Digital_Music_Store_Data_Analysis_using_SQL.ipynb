{
  "nbformat": 4,
  "nbformat_minor": 0,
  "metadata": {
    "colab": {
      "provenance": []
    },
    "kernelspec": {
      "name": "python3",
      "display_name": "Python 3"
    },
    "language_info": {
      "name": "python"
    }
  },
  "cells": [
    {
      "cell_type": "code",
      "execution_count": null,
      "metadata": {
        "id": "75Mm26KIKRZI"
      },
      "outputs": [],
      "source": [
        "SELECT\n",
        "    c.Country,\n",
        "    SUM(i.Total) AS TotalSales\n",
        "FROM\n",
        "    Invoices i\n",
        "    JOIN Customers c ON i.CustomerId = c.CustomerId\n",
        "GROUP BY\n",
        "    c.Country\n",
        "ORDER BY\n",
        "    TotalSales DESC;"
      ]
    },
    {
      "cell_type": "code",
      "source": [
        "SELECT\n",
        "    c.CustomerId,\n",
        "    c.FirstName || ' ' || c.LastName AS CustomerName,\n",
        "    SUM(i.Total) AS TotalSpent\n",
        "FROM\n",
        "    Invoices i\n",
        "    JOIN Customers c ON i.CustomerId = c.CustomerId\n",
        "GROUP BY\n",
        "    c.CustomerId\n",
        "ORDER BY\n",
        "    TotalSpent DESC\n",
        "LIMIT 10;\n"
      ],
      "metadata": {
        "id": "esRyIACMKoAE"
      },
      "execution_count": null,
      "outputs": []
    },
    {
      "cell_type": "code",
      "source": [
        "SELECT\n",
        "    g.Name AS Genre,\n",
        "    COUNT(il.InvoiceLineId) AS TracksSold\n",
        "FROM\n",
        "    InvoiceLines il\n",
        "    JOIN Tracks t ON il.TrackId = t.TrackId\n",
        "    JOIN Genres g ON t.GenreId = g.GenreId\n",
        "GROUP BY\n",
        "    g.Name\n",
        "ORDER BY\n",
        "    TracksSold DESC;\n"
      ],
      "metadata": {
        "id": "gxJ3Py1rKtZs"
      },
      "execution_count": null,
      "outputs": []
    },
    {
      "cell_type": "code",
      "source": [
        "SELECT\n",
        "    ar.Name AS Artist,\n",
        "    SUM(il.UnitPrice * il.Quantity) AS TotalSales\n",
        "FROM\n",
        "    InvoiceLines il\n",
        "    JOIN Tracks t ON il.TrackId = t.TrackId\n",
        "    JOIN Albums al ON t.AlbumId = al.AlbumId\n",
        "    JOIN Artists ar ON al.ArtistId = ar.ArtistId\n",
        "GROUP BY\n",
        "    ar.Name\n",
        "ORDER BY\n",
        "    TotalSales DESC;\n"
      ],
      "metadata": {
        "id": "SR1AqdvOKw98"
      },
      "execution_count": null,
      "outputs": []
    }
  ]
}